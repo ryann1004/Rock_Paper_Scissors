{
 "cells": [
  {
   "cell_type": "code",
   "execution_count": null,
   "id": "8b196bb8",
   "metadata": {
    "vscode": {
     "languageId": "plaintext"
    }
   },
   "outputs": [],
   "source": [
    "import random\n",
    "\n",
    "valid_moves = [\"rock\", \"paper\", \"scissors\"]\n",
    "play_again = \"yes\"\n",
    "\n",
    "while play_again.lower() == \"yes\":\n",
    "    user_move = input(\"Enter your move (rock, paper, or scissors): \")\n",
    "    \n",
    "    while user_move not in valid_moves:\n",
    "        print(\"Error. Please choose either rock, paper, or scissors.\")\n",
    "        user_move = input(\"Enter your move: \")\n",
    "        \n",
    "    moves = [\"rock\", \"paper\", \"scissors\"]\n",
    "    computer_move = random.choice(moves)\n",
    "\n",
    "    if user_move == computer_move:\n",
    "        result = \"It's a tie!\"\n",
    "    elif (user_move == \"rock\" and computer_move == \"scissors\") or (user_move == \"paper\" and computer_move == \"rock\") or (user_move == \"scissors\" and computer_move == \"paper\"):\n",
    "        result = \"Congratulations! You win!\"\n",
    "    else:\n",
    "        result = \"Sorry, the computer wins!\"\n",
    "        \n",
    "    print(f\"You chose: {user_move}\")\n",
    "    print(f\"The computer chose: {computer_move}\")\n",
    "    print(result)\n",
    "    \n",
    "    play_again = input(\"Do you want to play again? (yes/no): \")\n",
    "\n",
    "\n"
   ]
  }
 ],
 "metadata": {
  "language_info": {
   "name": "python"
  }
 },
 "nbformat": 4,
 "nbformat_minor": 5
}
